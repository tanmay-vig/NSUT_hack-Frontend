{
 "cells": [
  {
   "cell_type": "code",
   "execution_count": 1,
   "id": "51dc5395",
   "metadata": {},
   "outputs": [],
   "source": [
    "from nltk.corpus import stopwords\n",
    "from nltk.tokenize import word_tokenize, sent_tokenize"
   ]
  },
  {
   "cell_type": "code",
   "execution_count": 2,
   "id": "18735604",
   "metadata": {},
   "outputs": [
    {
     "name": "stderr",
     "output_type": "stream",
     "text": [
      "[nltk_data] Downloading package stopwords to\n",
      "[nltk_data]     C:\\Users\\Dell\\AppData\\Roaming\\nltk_data...\n",
      "[nltk_data]   Unzipping corpora\\stopwords.zip.\n",
      "[nltk_data] Downloading package punkt to\n",
      "[nltk_data]     C:\\Users\\Dell\\AppData\\Roaming\\nltk_data...\n",
      "[nltk_data]   Unzipping tokenizers\\punkt.zip.\n"
     ]
    },
    {
     "data": {
      "text/plain": [
       "True"
      ]
     },
     "execution_count": 2,
     "metadata": {},
     "output_type": "execute_result"
    }
   ],
   "source": [
    "import nltk \n",
    "nltk.download('stopwords')\n",
    "nltk.download('punkt')"
   ]
  },
  {
   "cell_type": "code",
   "execution_count": 3,
   "id": "8893c8e2",
   "metadata": {},
   "outputs": [],
   "source": [
    "text= \"\"\" Taylor Alison Swift (born December 13, 1989) is an American singer-songwriter. Her discography spans multiple genres, and her songwriting—often inspired by her personal life—has received critical praise and wide media coverage. Born in West Reading, Pennsylvania, Swift moved to Nashville at age 14 to become a country artist. She signed a songwriting deal with Sony/ATV Music Publishing in 2004 and a recording contract with Big Machine Records in 2005. Her 2006 self-titled debut album made her the first female country singer to write or co-write a U.S. platinum-certified album entirely.\n",
    "\n",
    "Swift's next albums, Fearless (2008) and Speak Now (2010), explored country pop. The former's \"Love Story\" and \"You Belong with Me\" were the first country songs to top the U.S. pop and all-genre airplay charts, respectively. She experimented with rock and electronic styles on Red (2012), which featured her first Billboard Hot 100 number-one song, \"We Are Never Ever Getting Back Together\", and eschewed her country image in her synth-pop album, 1989 (2014), supported by chart-topping songs \"Shake It Off\", \"Blank Space\", and \"Bad Blood\". Media scrutiny inspired the urban-flavored Reputation (2017) and its number-one single \"Look What You Made Me Do\".\n",
    "\n",
    "Exiting Big Machine, Swift signed with Republic Records in 2018 and released her seventh studio album, Lover (2019), followed by the autobiographical documentary Miss Americana (2020). She ventured into indie folk and alternative rock in her 2020 albums Folklore and Evermore, whose singles \"Cardigan\" and \"Willow\" topped the Hot 100. Swift began re-recording her first six albums after a dispute over their masters, re-releasing two in 2021—Fearless (Taylor's Version) and Red (Taylor's Version). The latter's \"All Too Well (10 Minute Version)\" became the longest song to top the Hot 100. Her tenth original album Midnights (2022) and its single \"Anti-Hero\" broke all-time streaming records. Swift has self-directed music videos and films, such as All Too Well: The Short Film (2021), and had supportive acting roles in others.\n",
    "\n",
    "Having sold over 200 million records globally, Swift is one of the best-selling musicians in history. She is the most streamed woman on Spotify, and the only act to have five albums open with over one million copies sold in the US. Among her accolades are 11 Grammy Awards, including three Album of the Year wins; an Emmy Award; 40 American Music Awards; 29 Billboard Music Awards; and 92 Guinness World Records. Swift has been featured in rankings such as Rolling Stone's 100 Greatest Songwriters of All Time, Billboard's Greatest of All Time Artists, the Time 100 and Forbes Celebrity 100. Honored with titles such as Artist of the Decade and Woman of the Decade, Swift is an advocate for artists' rights and women's empowerment. Her music is credited with influencing a generation of singer-songwriters. \"\"\""
   ]
  },
  {
   "cell_type": "code",
   "execution_count": 4,
   "id": "db8733b8",
   "metadata": {},
   "outputs": [
    {
     "name": "stdout",
     "output_type": "stream",
     "text": [
      "{'further', \"shouldn't\", 'under', \"you'll\", 'ours', 'in', \"doesn't\", 'by', 'herself', 'been', 'those', 'couldn', 'from', 'your', 'against', 'are', 'than', 'we', 'but', 'above', \"weren't\", 'yourselves', 've', 'myself', 'be', 'other', 'hasn', 'his', 'won', 'up', \"isn't\", 'it', 'being', 'or', 'more', 'out', 'again', 'each', 'with', 'during', 'my', 'which', 'not', 'm', 'shouldn', 'doing', \"aren't\", 'what', 'then', 'he', 'her', 'o', 'some', \"haven't\", 's', 'll', 'ourselves', \"didn't\", 'about', 'where', \"you've\", 'is', \"she's\", 'and', \"needn't\", 'weren', 'no', 'that', 'if', 'wouldn', 'd', 'they', 'few', 'this', 'until', 'same', 'isn', 'didn', 'has', \"hadn't\", 'too', 'needn', 'just', 'will', 'all', 'at', 'because', 'between', 'having', 'its', \"that'll\", 'so', 'for', \"wouldn't\", 'how', 'hadn', 'themselves', 'while', 'itself', 'were', 'hers', 'our', \"shan't\", 'them', 'most', 'very', 'nor', 'off', 'to', \"you'd\", 'into', 'doesn', 'a', 'you', \"should've\", 'i', 'after', 'over', 'on', 'can', 'ain', 'was', 'the', 'of', 'when', 'now', 'only', 'why', 'should', 'theirs', 'once', 'any', 'here', 'such', \"won't\", 'below', 're', 'am', 'down', 'there', 'through', 'both', 'an', 'did', 'mightn', 'aren', 'ma', 'wasn', 'me', 'does', 'haven', \"don't\", \"it's\", 'their', \"mustn't\", 'y', 'she', 'who', 'mustn', \"hasn't\", 'him', \"you're\", 'had', 'these', 'as', \"mightn't\", 'don', 'do', \"couldn't\", 'before', 't', 'shan', 'yourself', 'have', \"wasn't\", 'whom', 'own', 'himself', 'yours'}\n"
     ]
    }
   ],
   "source": [
    "stopWords= set(stopwords.words(\"english\"))\n",
    "print(stopWords)"
   ]
  },
  {
   "cell_type": "code",
   "execution_count": 5,
   "id": "3b54ce6a",
   "metadata": {},
   "outputs": [
    {
     "name": "stdout",
     "output_type": "stream",
     "text": [
      "['Taylor', 'Alison', 'Swift', '(', 'born', 'December', '13', ',', '1989', ')', 'is', 'an', 'American', 'singer-songwriter', '.', 'Her', 'discography', 'spans', 'multiple', 'genres', ',', 'and', 'her', 'songwriting—often', 'inspired', 'by', 'her', 'personal', 'life—has', 'received', 'critical', 'praise', 'and', 'wide', 'media', 'coverage', '.', 'Born', 'in', 'West', 'Reading', ',', 'Pennsylvania', ',', 'Swift', 'moved', 'to', 'Nashville', 'at', 'age', '14', 'to', 'become', 'a', 'country', 'artist', '.', 'She', 'signed', 'a', 'songwriting', 'deal', 'with', 'Sony/ATV', 'Music', 'Publishing', 'in', '2004', 'and', 'a', 'recording', 'contract', 'with', 'Big', 'Machine', 'Records', 'in', '2005', '.', 'Her', '2006', 'self-titled', 'debut', 'album', 'made', 'her', 'the', 'first', 'female', 'country', 'singer', 'to', 'write', 'or', 'co-write', 'a', 'U.S.', 'platinum-certified', 'album', 'entirely', '.', 'Swift', \"'s\", 'next', 'albums', ',', 'Fearless', '(', '2008', ')', 'and', 'Speak', 'Now', '(', '2010', ')', ',', 'explored', 'country', 'pop', '.', 'The', 'former', \"'s\", '``', 'Love', 'Story', \"''\", 'and', '``', 'You', 'Belong', 'with', 'Me', \"''\", 'were', 'the', 'first', 'country', 'songs', 'to', 'top', 'the', 'U.S.', 'pop', 'and', 'all-genre', 'airplay', 'charts', ',', 'respectively', '.', 'She', 'experimented', 'with', 'rock', 'and', 'electronic', 'styles', 'on', 'Red', '(', '2012', ')', ',', 'which', 'featured', 'her', 'first', 'Billboard', 'Hot', '100', 'number-one', 'song', ',', '``', 'We', 'Are', 'Never', 'Ever', 'Getting', 'Back', 'Together', \"''\", ',', 'and', 'eschewed', 'her', 'country', 'image', 'in', 'her', 'synth-pop', 'album', ',', '1989', '(', '2014', ')', ',', 'supported', 'by', 'chart-topping', 'songs', '``', 'Shake', 'It', 'Off', \"''\", ',', '``', 'Blank', 'Space', \"''\", ',', 'and', '``', 'Bad', 'Blood', \"''\", '.', 'Media', 'scrutiny', 'inspired', 'the', 'urban-flavored', 'Reputation', '(', '2017', ')', 'and', 'its', 'number-one', 'single', '``', 'Look', 'What', 'You', 'Made', 'Me', 'Do', \"''\", '.', 'Exiting', 'Big', 'Machine', ',', 'Swift', 'signed', 'with', 'Republic', 'Records', 'in', '2018', 'and', 'released', 'her', 'seventh', 'studio', 'album', ',', 'Lover', '(', '2019', ')', ',', 'followed', 'by', 'the', 'autobiographical', 'documentary', 'Miss', 'Americana', '(', '2020', ')', '.', 'She', 'ventured', 'into', 'indie', 'folk', 'and', 'alternative', 'rock', 'in', 'her', '2020', 'albums', 'Folklore', 'and', 'Evermore', ',', 'whose', 'singles', '``', 'Cardigan', \"''\", 'and', '``', 'Willow', \"''\", 'topped', 'the', 'Hot', '100', '.', 'Swift', 'began', 're-recording', 'her', 'first', 'six', 'albums', 'after', 'a', 'dispute', 'over', 'their', 'masters', ',', 're-releasing', 'two', 'in', '2021—Fearless', '(', 'Taylor', \"'s\", 'Version', ')', 'and', 'Red', '(', 'Taylor', \"'s\", 'Version', ')', '.', 'The', 'latter', \"'s\", '``', 'All', 'Too', 'Well', '(', '10', 'Minute', 'Version', ')', \"''\", 'became', 'the', 'longest', 'song', 'to', 'top', 'the', 'Hot', '100', '.', 'Her', 'tenth', 'original', 'album', 'Midnights', '(', '2022', ')', 'and', 'its', 'single', '``', 'Anti-Hero', \"''\", 'broke', 'all-time', 'streaming', 'records', '.', 'Swift', 'has', 'self-directed', 'music', 'videos', 'and', 'films', ',', 'such', 'as', 'All', 'Too', 'Well', ':', 'The', 'Short', 'Film', '(', '2021', ')', ',', 'and', 'had', 'supportive', 'acting', 'roles', 'in', 'others', '.', 'Having', 'sold', 'over', '200', 'million', 'records', 'globally', ',', 'Swift', 'is', 'one', 'of', 'the', 'best-selling', 'musicians', 'in', 'history', '.', 'She', 'is', 'the', 'most', 'streamed', 'woman', 'on', 'Spotify', ',', 'and', 'the', 'only', 'act', 'to', 'have', 'five', 'albums', 'open', 'with', 'over', 'one', 'million', 'copies', 'sold', 'in', 'the', 'US', '.', 'Among', 'her', 'accolades', 'are', '11', 'Grammy', 'Awards', ',', 'including', 'three', 'Album', 'of', 'the', 'Year', 'wins', ';', 'an', 'Emmy', 'Award', ';', '40', 'American', 'Music', 'Awards', ';', '29', 'Billboard', 'Music', 'Awards', ';', 'and', '92', 'Guinness', 'World', 'Records', '.', 'Swift', 'has', 'been', 'featured', 'in', 'rankings', 'such', 'as', 'Rolling', 'Stone', \"'s\", '100', 'Greatest', 'Songwriters', 'of', 'All', 'Time', ',', 'Billboard', \"'s\", 'Greatest', 'of', 'All', 'Time', 'Artists', ',', 'the', 'Time', '100', 'and', 'Forbes', 'Celebrity', '100', '.', 'Honored', 'with', 'titles', 'such', 'as', 'Artist', 'of', 'the', 'Decade', 'and', 'Woman', 'of', 'the', 'Decade', ',', 'Swift', 'is', 'an', 'advocate', 'for', 'artists', \"'\", 'rights', 'and', 'women', \"'s\", 'empowerment', '.', 'Her', 'music', 'is', 'credited', 'with', 'influencing', 'a', 'generation', 'of', 'singer-songwriters', '.']\n"
     ]
    }
   ],
   "source": [
    "words= word_tokenize(text)\n",
    "print(words)"
   ]
  },
  {
   "cell_type": "code",
   "execution_count": 6,
   "id": "754de1b7",
   "metadata": {},
   "outputs": [],
   "source": [
    "freqTable= dict()"
   ]
  },
  {
   "cell_type": "code",
   "execution_count": 7,
   "id": "40fc72f2",
   "metadata": {},
   "outputs": [
    {
     "name": "stdout",
     "output_type": "stream",
     "text": [
      "{'taylor': 3, 'alison': 1, 'swift': 9, '(': 13, 'born': 2, 'december': 1, '13': 1, ',': 27, '1989': 2, ')': 13, 'american': 2, 'singer-songwriter': 1, '.': 21, 'discography': 1, 'spans': 1, 'multiple': 1, 'genres': 1, 'songwriting—often': 1, 'inspired': 2, 'personal': 1, 'life—has': 1, 'received': 1, 'critical': 1, 'praise': 1, 'wide': 1, 'media': 2, 'coverage': 1, 'west': 1, 'reading': 1, 'pennsylvania': 1, 'moved': 1, 'nashville': 1, 'age': 1, '14': 1, 'become': 1, 'country': 5, 'artist': 2, 'signed': 2, 'songwriting': 1, 'deal': 1, 'sony/atv': 1, 'music': 5, 'publishing': 1, '2004': 1, 'recording': 1, 'contract': 1, 'big': 2, 'machine': 2, 'records': 5, '2005': 1, '2006': 1, 'self-titled': 1, 'debut': 1, 'album': 6, 'made': 2, 'first': 4, 'female': 1, 'singer': 1, 'write': 1, 'co-write': 1, 'u.s.': 2, 'platinum-certified': 1, 'entirely': 1, \"'s\": 8, 'next': 1, 'albums': 4, 'fearless': 1, '2008': 1, 'speak': 1, '2010': 1, 'explored': 1, 'pop': 2, 'former': 1, '``': 11, 'love': 1, 'story': 1, \"''\": 11, 'belong': 1, 'songs': 2, 'top': 2, 'all-genre': 1, 'airplay': 1, 'charts': 1, 'respectively': 1, 'experimented': 1, 'rock': 2, 'electronic': 1, 'styles': 1, 'red': 2, '2012': 1, 'featured': 2, 'billboard': 3, 'hot': 3, '100': 6, 'number-one': 2, 'song': 2, 'never': 1, 'ever': 1, 'getting': 1, 'back': 1, 'together': 1, 'eschewed': 1, 'image': 1, 'synth-pop': 1, '2014': 1, 'supported': 1, 'chart-topping': 1, 'shake': 1, 'blank': 1, 'space': 1, 'bad': 1, 'blood': 1, 'scrutiny': 1, 'urban-flavored': 1, 'reputation': 1, '2017': 1, 'single': 2, 'look': 1, 'exiting': 1, 'republic': 1, '2018': 1, 'released': 1, 'seventh': 1, 'studio': 1, 'lover': 1, '2019': 1, 'followed': 1, 'autobiographical': 1, 'documentary': 1, 'miss': 1, 'americana': 1, '2020': 2, 'ventured': 1, 'indie': 1, 'folk': 1, 'alternative': 1, 'folklore': 1, 'evermore': 1, 'whose': 1, 'singles': 1, 'cardigan': 1, 'willow': 1, 'topped': 1, 'began': 1, 're-recording': 1, 'six': 1, 'dispute': 1, 'masters': 1, 're-releasing': 1, 'two': 1, '2021—fearless': 1, 'version': 3, 'latter': 1, 'well': 2, '10': 1, 'minute': 1, 'became': 1, 'longest': 1, 'tenth': 1, 'original': 1, 'midnights': 1, '2022': 1, 'anti-hero': 1, 'broke': 1, 'all-time': 1, 'streaming': 1, 'self-directed': 1, 'videos': 1, 'films': 1, ':': 1, 'short': 1, 'film': 1, '2021': 1, 'supportive': 1, 'acting': 1, 'roles': 1, 'others': 1, 'sold': 2, '200': 1, 'million': 2, 'globally': 1, 'one': 2, 'best-selling': 1, 'musicians': 1, 'history': 1, 'streamed': 1, 'woman': 2, 'spotify': 1, 'act': 1, 'five': 1, 'open': 1, 'copies': 1, 'us': 1, 'among': 1, 'accolades': 1, '11': 1, 'grammy': 1, 'awards': 3, 'including': 1, 'three': 1, 'year': 1, 'wins': 1, ';': 4, 'emmy': 1, 'award': 1, '40': 1, '29': 1, '92': 1, 'guinness': 1, 'world': 1, 'rankings': 1, 'rolling': 1, 'stone': 1, 'greatest': 2, 'songwriters': 1, 'time': 3, 'artists': 2, 'forbes': 1, 'celebrity': 1, 'honored': 1, 'titles': 1, 'decade': 2, 'advocate': 1, \"'\": 1, 'rights': 1, 'women': 1, 'empowerment': 1, 'credited': 1, 'influencing': 1, 'generation': 1, 'singer-songwriters': 1}\n"
     ]
    }
   ],
   "source": [
    "freqTable= dict()\n",
    "for word in words:\n",
    "    word = word.lower()\n",
    "    if word in stopWords:\n",
    "      continue\n",
    "    if word in freqTable:\n",
    "        freqTable[word] += 1\n",
    "    else:\n",
    "        freqTable[word] = 1\n",
    "            \n",
    "print(freqTable)"
   ]
  },
  {
   "cell_type": "code",
   "execution_count": 8,
   "id": "e6a0f423",
   "metadata": {},
   "outputs": [
    {
     "name": "stdout",
     "output_type": "stream",
     "text": [
      "[' Taylor Alison Swift (born December 13, 1989) is an American singer-songwriter.', 'Her discography spans multiple genres, and her songwriting—often inspired by her personal life—has received critical praise and wide media coverage.', 'Born in West Reading, Pennsylvania, Swift moved to Nashville at age 14 to become a country artist.', 'She signed a songwriting deal with Sony/ATV Music Publishing in 2004 and a recording contract with Big Machine Records in 2005.', 'Her 2006 self-titled debut album made her the first female country singer to write or co-write a U.S. platinum-certified album entirely.', \"Swift's next albums, Fearless (2008) and Speak Now (2010), explored country pop.\", 'The former\\'s \"Love Story\" and \"You Belong with Me\" were the first country songs to top the U.S. pop and all-genre airplay charts, respectively.', 'She experimented with rock and electronic styles on Red (2012), which featured her first Billboard Hot 100 number-one song, \"We Are Never Ever Getting Back Together\", and eschewed her country image in her synth-pop album, 1989 (2014), supported by chart-topping songs \"Shake It Off\", \"Blank Space\", and \"Bad Blood\".', 'Media scrutiny inspired the urban-flavored Reputation (2017) and its number-one single \"Look What You Made Me Do\".', 'Exiting Big Machine, Swift signed with Republic Records in 2018 and released her seventh studio album, Lover (2019), followed by the autobiographical documentary Miss Americana (2020).', 'She ventured into indie folk and alternative rock in her 2020 albums Folklore and Evermore, whose singles \"Cardigan\" and \"Willow\" topped the Hot 100.', \"Swift began re-recording her first six albums after a dispute over their masters, re-releasing two in 2021—Fearless (Taylor's Version) and Red (Taylor's Version).\", 'The latter\\'s \"All Too Well (10 Minute Version)\" became the longest song to top the Hot 100.', 'Her tenth original album Midnights (2022) and its single \"Anti-Hero\" broke all-time streaming records.', 'Swift has self-directed music videos and films, such as All Too Well: The Short Film (2021), and had supportive acting roles in others.', 'Having sold over 200 million records globally, Swift is one of the best-selling musicians in history.', 'She is the most streamed woman on Spotify, and the only act to have five albums open with over one million copies sold in the US.', 'Among her accolades are 11 Grammy Awards, including three Album of the Year wins; an Emmy Award; 40 American Music Awards; 29 Billboard Music Awards; and 92 Guinness World Records.', \"Swift has been featured in rankings such as Rolling Stone's 100 Greatest Songwriters of All Time, Billboard's Greatest of All Time Artists, the Time 100 and Forbes Celebrity 100.\", \"Honored with titles such as Artist of the Decade and Woman of the Decade, Swift is an advocate for artists' rights and women's empowerment.\", 'Her music is credited with influencing a generation of singer-songwriters.']\n"
     ]
    }
   ],
   "source": [
    "sentences= sent_tokenize(text)\n",
    "print(sentences)"
   ]
  },
  {
   "cell_type": "code",
   "execution_count": 9,
   "id": "eef8296c",
   "metadata": {},
   "outputs": [
    {
     "data": {
      "text/plain": [
       "' Taylor Alison Swift (born December 13, 1989) is an American singer-songwriter.'"
      ]
     },
     "execution_count": 9,
     "metadata": {},
     "output_type": "execute_result"
    }
   ],
   "source": [
    "sentences[0]"
   ]
  },
  {
   "cell_type": "code",
   "execution_count": 10,
   "id": "4e063048",
   "metadata": {},
   "outputs": [
    {
     "name": "stdout",
     "output_type": "stream",
     "text": [
      "{' Taylor Alison Swift (born December 13, 1989) is an American singer-songwriter.': 100, 'Her discography spans multiple genres, and her songwriting—often inspired by her personal life—has received critical praise and wide media coverage.': 70, 'Born in West Reading, Pennsylvania, Swift moved to Nashville at age 14 to become a country artist.': 74, 'She signed a songwriting deal with Sony/ATV Music Publishing in 2004 and a recording contract with Big Machine Records in 2005.': 50, 'Her 2006 self-titled debut album made her the first female country singer to write or co-write a U.S. platinum-certified album entirely.': 50, \"Swift's next albums, Fearless (2008) and Speak Now (2010), explored country pop.\": 119, 'The former\\'s \"Love Story\" and \"You Belong with Me\" were the first country songs to top the U.S. pop and all-genre airplay charts, respectively.': 84, 'She experimented with rock and electronic styles on Red (2012), which featured her first Billboard Hot 100 number-one song, \"We Are Never Ever Getting Back Together\", and eschewed her country image in her synth-pop album, 1989 (2014), supported by chart-topping songs \"Shake It Off\", \"Blank Space\", and \"Bad Blood\".': 144, 'Media scrutiny inspired the urban-flavored Reputation (2017) and its number-one single \"Look What You Made Me Do\".': 66, 'Exiting Big Machine, Swift signed with Republic Records in 2018 and released her seventh studio album, Lover (2019), followed by the autobiographical documentary Miss Americana (2020).': 118, 'She ventured into indie folk and alternative rock in her 2020 albums Folklore and Evermore, whose singles \"Cardigan\" and \"Willow\" topped the Hot 100.': 90, \"Swift began re-recording her first six albums after a dispute over their masters, re-releasing two in 2021—Fearless (Taylor's Version) and Red (Taylor's Version).\": 125, 'The latter\\'s \"All Too Well (10 Minute Version)\" became the longest song to top the Hot 100.': 79, 'Her tenth original album Midnights (2022) and its single \"Anti-Hero\" broke all-time streaming records.': 71, 'Swift has self-directed music videos and films, such as All Too Well: The Short Film (2021), and had supportive acting roles in others.': 103, 'Having sold over 200 million records globally, Swift is one of the best-selling musicians in history.': 80, 'She is the most streamed woman on Spotify, and the only act to have five albums open with over one million copies sold in the US.': 73, 'Among her accolades are 11 Grammy Awards, including three Album of the Year wins; an Emmy Award; 40 American Music Awards; 29 Billboard Music Awards; and 92 Guinness World Records.': 92, \"Swift has been featured in rankings such as Rolling Stone's 100 Greatest Songwriters of All Time, Billboard's Greatest of All Time Artists, the Time 100 and Forbes Celebrity 100.\": 100, \"Honored with titles such as Artist of the Decade and Woman of the Decade, Swift is an advocate for artists' rights and women's empowerment.\": 82, 'Her music is credited with influencing a generation of singer-songwriters.': 39}\n"
     ]
    }
   ],
   "source": [
    "def getsentenceValue():\n",
    "    sentenceValue = dict()\n",
    "    for sentence in sentences:\n",
    "        for word, freq in freqTable.items():\n",
    "            if word in sentence.lower():\n",
    "                if sentence in sentenceValue:\n",
    "                    sentenceValue[sentence] += freq\n",
    "                else:\n",
    "                    sentenceValue[sentence] = freq\n",
    "    return sentenceValue\n",
    "    print(sentenceValue)\n",
    "    \n",
    "sentenceValue = getsentenceValue()\n",
    "print(sentenceValue)"
   ]
  },
  {
   "cell_type": "code",
   "execution_count": 11,
   "id": "9fee5a43",
   "metadata": {},
   "outputs": [
    {
     "name": "stdout",
     "output_type": "stream",
     "text": [
      "86\n"
     ]
    }
   ],
   "source": [
    "def getsumValues():\n",
    "    sumValues = 0\n",
    "    for sentence in sentenceValue:\n",
    "        sumValues += sentenceValue[sentence]\n",
    "        \n",
    "        \n",
    "    average = int(sumValues / len(sentenceValue))\n",
    "    return average\n",
    "\n",
    "average = getsumValues()\n",
    "print(average)\n",
    "    \n",
    "        "
   ]
  },
  {
   "cell_type": "code",
   "execution_count": 12,
   "id": "ad2da118",
   "metadata": {},
   "outputs": [
    {
     "name": "stdout",
     "output_type": "stream",
     "text": [
      " Swift's next albums, Fearless (2008) and Speak Now (2010), explored country pop. She experimented with rock and electronic styles on Red (2012), which featured her first Billboard Hot 100 number-one song, \"We Are Never Ever Getting Back Together\", and eschewed her country image in her synth-pop album, 1989 (2014), supported by chart-topping songs \"Shake It Off\", \"Blank Space\", and \"Bad Blood\". Exiting Big Machine, Swift signed with Republic Records in 2018 and released her seventh studio album, Lover (2019), followed by the autobiographical documentary Miss Americana (2020). Swift began re-recording her first six albums after a dispute over their masters, re-releasing two in 2021—Fearless (Taylor's Version) and Red (Taylor's Version).\n"
     ]
    }
   ],
   "source": [
    "summary = ''\n",
    "for sentence in sentences:\n",
    "    if (sentence in sentences) and (sentenceValue[sentence] > (1.2 * average)):\n",
    "        summary += \" \" + sentence\n",
    "print(summary)"
   ]
  },
  {
   "cell_type": "code",
   "execution_count": null,
   "id": "1a959bc8",
   "metadata": {},
   "outputs": [],
   "source": []
  },
  {
   "cell_type": "code",
   "execution_count": null,
   "id": "8f1ac1a0",
   "metadata": {},
   "outputs": [],
   "source": []
  }
 ],
 "metadata": {
  "kernelspec": {
   "display_name": "Python 3",
   "language": "python",
   "name": "python3"
  },
  "language_info": {
   "codemirror_mode": {
    "name": "ipython",
    "version": 3
   },
   "file_extension": ".py",
   "mimetype": "text/x-python",
   "name": "python",
   "nbconvert_exporter": "python",
   "pygments_lexer": "ipython3",
   "version": "3.11.1"
  },
  "vscode": {
   "interpreter": {
    "hash": "7e5c0badbb2d24bbc3f94f0128230c51073dab69f6205fe8338cbe6039d785c3"
   }
  }
 },
 "nbformat": 4,
 "nbformat_minor": 5
}
